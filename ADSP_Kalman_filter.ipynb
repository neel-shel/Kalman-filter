{
  "nbformat": 4,
  "nbformat_minor": 0,
  "metadata": {
    "colab": {
      "provenance": [],
      "collapsed_sections": [
        "nsYuZcqkV4Mw",
        "QRdRwvGqPhlY",
        "lmr4O01hPnHf"
      ],
      "authorship_tag": "ABX9TyPT2Wrb7nmaaU9MsUlJ1HK6",
      "include_colab_link": true
    },
    "kernelspec": {
      "name": "python3",
      "display_name": "Python 3"
    },
    "language_info": {
      "name": "python"
    }
  },
  "cells": [
    {
      "cell_type": "markdown",
      "metadata": {
        "id": "view-in-github",
        "colab_type": "text"
      },
      "source": [
        "<a href=\"https://colab.research.google.com/github/neel-shel/Kalman-filter/blob/main/ADSP_Kalman_filter.ipynb\" target=\"_parent\"><img src=\"https://colab.research.google.com/assets/colab-badge.svg\" alt=\"Open In Colab\"/></a>"
      ]
    },
    {
      "cell_type": "markdown",
      "source": [
        "# **IMPORT LIBRARIES**"
      ],
      "metadata": {
        "id": "uMeMngbgQRUi"
      }
    },
    {
      "cell_type": "code",
      "execution_count": 336,
      "metadata": {
        "id": "MceNM0QYQCOB"
      },
      "outputs": [],
      "source": [
        "import pandas as pd\n",
        "import numpy as np\n",
        "import scipy\n",
        "import sklearn\n",
        "import matplotlib.pyplot as plt\n",
        "import mpmath\n",
        "import math\n",
        "from tqdm import tqdm\n",
        "from copy import deepcopy\n",
        "import seaborn as sns"
      ]
    },
    {
      "cell_type": "markdown",
      "source": [
        "# **Parameters**"
      ],
      "metadata": {
        "id": "8G0udsIyf8SD"
      }
    },
    {
      "cell_type": "code",
      "source": [
        "#DO NOT CHANGE THIS CELL\n",
        "%matplotlib inline\n",
        "# set seed\n",
        "seed = 40\n",
        "np.random.seed(seed)\n",
        "pi=3.14159\n",
        "epsilon=1e-3\n",
        "delta_t=epsilon"
      ],
      "metadata": {
        "id": "AutVmZSTQoZx"
      },
      "execution_count": 337,
      "outputs": []
    },
    {
      "cell_type": "code",
      "source": [
        "# DO NOT CHANGE THIS CELL\n",
        "total_epochs=10\n",
        "w_ie=7.2921159e-6\n",
        "R_e=6974e3\n",
        "INS_out_freq=100"
      ],
      "metadata": {
        "id": "iFXjfj_tNzwi"
      },
      "execution_count": 338,
      "outputs": []
    },
    {
      "cell_type": "code",
      "source": [
        "#chi squared function\n",
        "def chi(x,df=1):\n",
        "  '''chi takes in x & degree of freedom and returns chi squared distribution'''\n",
        "  x=np.add(x,epsilon)\n",
        "  x=x.astype(complex)\n",
        "  chi=np.multiply(np.divide(0.5**(df/2),math.gamma(df/2)),np.multiply(np.divide(np.float_power(x,df/2),x),np.exp(np.multiply(-0.5,x))))\n",
        "  return chi"
      ],
      "metadata": {
        "id": "IGCzQEUwQwzJ"
      },
      "execution_count": 339,
      "outputs": []
    },
    {
      "cell_type": "code",
      "source": [
        "def sqmat(x,y):\n",
        "  return np.matmul(x,np.matmul(y,np.transpose(x)))"
      ],
      "metadata": {
        "id": "MqUc0o2E4_RY"
      },
      "execution_count": 340,
      "outputs": []
    },
    {
      "cell_type": "markdown",
      "source": [
        "# **Kalman filter algorithm**"
      ],
      "metadata": {
        "id": "Vzu3y1jqgFMW"
      }
    },
    {
      "cell_type": "code",
      "source": [
        "def kf(phi,x_prev,gamma,w_prev,h,v):\n",
        "  '''Phi_k,k-1: State Transition matrix\n",
        "     X_prev: Previous state matrix\n",
        "     Gamma_k,k-1: Matrix of noise driving\n",
        "     W_prev: noise vector of system\n",
        "     H_k: Measurement matrix\n",
        "     V_k: Measurement noise'''\n",
        "  x_curr = np.add(np.matmul(phi,x_prev),np.matmul(gamma,w_prev))\n",
        "  z=np.add(np.matmul(h,x_curr),v)\n",
        "  return x_curr,z"
      ],
      "metadata": {
        "id": "INuh83eT5bUg"
      },
      "execution_count": 341,
      "outputs": []
    },
    {
      "cell_type": "code",
      "source": [
        "def expected_val(x,pdf='chi'):\n",
        "  if pdf == 'uniform':\n",
        "    prob=np.divide(x,np.sum(x))\n",
        "  elif pdf == 'gaussian':\n",
        "    prob=np.random.normal(x)\n",
        "  else:\n",
        "    prob=chi(x)\n",
        "  exp=np.multiply(x,prob)\n",
        "  return exp"
      ],
      "metadata": {
        "id": "OmwtajLk-ty2"
      },
      "execution_count": 342,
      "outputs": []
    },
    {
      "cell_type": "code",
      "source": [
        "#sample test case\n",
        "x=[3,6,5,7.89,0,12,2]\n",
        "print(expected_val(x,'chi'))\n"
      ],
      "metadata": {
        "colab": {
          "base_uri": "https://localhost:8080/"
        },
        "id": "2hoz4SH7Amar",
        "outputId": "4706ecd1-6d68-401d-9982-604de37900d7"
      },
      "execution_count": 343,
      "outputs": [
        {
          "output_type": "stream",
          "name": "stdout",
          "text": [
            "[0.15407758+0.j 0.0486238 +0.j 0.07318099+0.j 0.02167266+0.j\n",
            " 0.        +0.j 0.00342372+0.j 0.20739815+0.j]\n"
          ]
        }
      ]
    },
    {
      "cell_type": "code",
      "source": [
        "def covariance(x,y):\n",
        "  cov=expected_val(np.matmul(np.subtract(x,expected_val(x)),np.transpose(np.subtract(y,expected_val(y)))))\n",
        "  return cov"
      ],
      "metadata": {
        "id": "iveDSAPq5bO7"
      },
      "execution_count": 344,
      "outputs": []
    },
    {
      "cell_type": "code",
      "source": [
        "def error_var(Phi,P_prev,Gamma_prev,Q_prev):\n",
        "  return np.add(sqmat(Phi,P_prev),sqmat(Gamma_prev,Q_prev))"
      ],
      "metadata": {
        "id": "hAaM4Dq49yco"
      },
      "execution_count": 345,
      "outputs": []
    },
    {
      "cell_type": "code",
      "source": [
        "def kf_gain(P_currOld,H_curr,R_curr):\n",
        "  if np.linalg.det(np.add(sqmat(H_curr,P_currOld),R_curr))!=0:\n",
        "    temp=np.linalg.inv(np.add(sqmat(H_curr,P_currOld),R_curr))\n",
        "    #print(temp)\n",
        "    return np.matmul(P_currOld,np.matmul(np.transpose(H_curr),temp))\n",
        "  else:\n",
        "    H_curr=np.add(H_curr,10*epsilon*np.random.randn())\n",
        "    P_currOld=np.add(P_currOld,10*epsilon*np.random.randn())\n",
        "    R_curr=np.add(R_curr,10*epsilon*np.random.randn())\n",
        "    temp=np.linalg.inv(np.add(sqmat(H_curr,P_currOld),R_curr))\n",
        "    #print(temp)\n",
        "    return np.matmul(P_currOld,np.matmul(np.transpose(H_curr),temp))"
      ],
      "metadata": {
        "id": "FhsbOx_M9yZL"
      },
      "execution_count": 346,
      "outputs": []
    },
    {
      "cell_type": "code",
      "source": [
        "def state_est(X_pred_newOld,K_curr,Z_curr,H_curr):\n",
        "  temp=np.subtract(Z_curr,np.matmul(H_curr,X_pred_newOld))\n",
        "  temp=np.matmul(K_curr,temp)\n",
        "  return np.add(X_pred_newOld,temp)\n",
        "\n",
        "def state_est_error(K_curr,H_curr,P_currOld):\n",
        "  return np.matmul(np.subtract(1,np.matmul(K_curr,H_curr)),P_currOld)"
      ],
      "metadata": {
        "id": "XVGRYo529yW7"
      },
      "execution_count": 347,
      "outputs": []
    },
    {
      "cell_type": "code",
      "source": [
        "def kf_update(Phi,Gamma_prev,X_prev,X_pred_prev,P_prev,Q_prev,R_curr,H_curr,Z_curr):\n",
        "  '''Phi: (15,15)\n",
        "  Gamma: (15,6)\n",
        "  X: (15,1)\n",
        "  P: (15,15)\n",
        "  Q: (6,6)\n",
        "  H: (3,15)\n",
        "  R: (3,3)\n",
        "  W: (6,1)\n",
        "  X=Phi.X+Gamma.W\n",
        "  '''\n",
        "\n",
        "  X_pred_newOld=np.transpose([np.matmul(Phi,X_pred_prev)])\n",
        "  P_currOld=error_var(Phi,P_prev,Gamma_prev,Q_prev)\n",
        "  K_curr=kf_gain(P_currOld,H_curr,R_curr)\n",
        "  X_pred_new=state_est(X_pred_newOld,K_curr,Z_curr,H_curr)\n",
        "  P_curr=state_est_error(K_curr,H_curr,P_currOld)\n",
        "\n",
        "  return K_curr,X_pred_new,P_curr"
      ],
      "metadata": {
        "id": "lg9Il_zp5bRK"
      },
      "execution_count": 348,
      "outputs": []
    },
    {
      "cell_type": "code",
      "source": [
        "def innovation_covariance(r_curr,r_pred_curr,R_curr,k):\n",
        "  return np.add(np.dot(1/(k+1),np.matmul(np.subtract(r_curr,r_pred_curr),np.transpose(np.subtract(r_curr,r_pred_curr)))),R_curr)"
      ],
      "metadata": {
        "id": "quPFNIxzKHMV"
      },
      "execution_count": 349,
      "outputs": []
    },
    {
      "cell_type": "code",
      "source": [
        "def skew_symm(x):\n",
        "  '''x is (3,1) coloumn vector'''\n",
        "  if x.shape!=(3,):\n",
        "    raise Exception('Please enter a (3,1) coloumn vector')\n",
        "  return [[0,-x[2],x[1]],[x[2],0,-x[0]],[-x[1],x[0],0]]"
      ],
      "metadata": {
        "id": "-pm1tQ3n6m-b"
      },
      "execution_count": 371,
      "outputs": []
    },
    {
      "cell_type": "code",
      "source": [
        "def navig_frame(L,Lambda):\n",
        "  return [[-1*math.sin(Lambda),-1*math.sin(L)*math.cos(Lambda),math.cos(L)*math.cos(Lambda)],[math.cos(Lambda),-1*math.sin(L)*math.sin(Lambda),math.cos(L)*math.sin(Lambda)],[0,math.cos(L),math.sin(L)]]"
      ],
      "metadata": {
        "id": "NPdKDCT2vjMT"
      },
      "execution_count": 351,
      "outputs": []
    },
    {
      "cell_type": "code",
      "source": [
        "def rover_body_frame(theta,phi,psi):\n",
        "  '''theta:\n",
        "  phi:\n",
        "  psi:'''\n",
        "  Rb_to_n=[[math.cos(theta)*math.cos(phi)-math.sin(theta)*math.sin(phi)*math.sin(psi),-math.cos(phi)*math.sin(psi),math.sin(theta)*math.cos(psi)+math.cos(theta)*math.sin(phi)*math.sin(psi)],[math.cos(theta)*math.sin(psi)+math.sin(theta)*math.sin(phi)*math.sin(psi),math.cos(phi)*math.cos(psi),math.sin(theta)*math.sin(phi)-math.cos(theta)*math.sin(phi)*math.cos(psi)],[-math.sin(theta)*math.cos(phi),math.sin(phi),math.cos(theta)*math.cos(phi)]]\n",
        "  return np.array(Rb_to_n)"
      ],
      "metadata": {
        "id": "DhbU6bBHF_rH"
      },
      "execution_count": 352,
      "outputs": []
    },
    {
      "cell_type": "code",
      "source": [
        "def rel_motion_err(R_error,R_bn_curr,R_bn_prev,r_curr,r_prev,delta_r_curr):\n",
        "  R_ins=np.matmul(R_error,np.matmul(np.transpose(R_bn_curr),R_bn_prev))\n",
        "  T_ins=np.add(np.subtract(r_curr,r_prev),delta_r_curr)\n",
        "  return R_ins,T_ins"
      ],
      "metadata": {
        "id": "MQRGDjuWdN1o"
      },
      "execution_count": 353,
      "outputs": []
    },
    {
      "cell_type": "code",
      "source": [
        "def f1_n(w_ie,w_en,V_e,V_n,V_u,g_n):\n",
        "  V=np.transpose([V_e,V_n,V_u])\n",
        "  f_n=np.add(V,np.subtract(skew_symm(np.add(np.dot(2,w_ie),w_en)),g_n))\n",
        "  return f_n"
      ],
      "metadata": {
        "id": "lTPKNwpiG8mo"
      },
      "execution_count": 354,
      "outputs": []
    },
    {
      "cell_type": "code",
      "source": [
        "# Basic IMU equations\n",
        "def INS_model(delta_Phi_e,delta_Phi_n,delta_Phi_u,Phi_e,Phi_n,Phi_u,V_e,V_n,V_u,L,Lambda,h,deltaL,deltaLambda,deltaH,Epsilon_x,Epsilon_y,Epsilon_z,Del_x,Del_y,Del_z,g_n):\n",
        "  '''[Phi_e,Phi_n,Phi_u] is attitude angle\n",
        "  [delta_Phi_e,delta_Phi_n,delta_Phi_u]: error angle\n",
        "  [V_e,V_n,V_u]: Velocity\n",
        "  [deltaV_e,deltaV_n,deltaV_u] is velocity error\n",
        "  [deltaL,deltaLambda,deltaH]: Position error\n",
        "  [Epsilon_x,Epsilon_y,Epsilon_z]: Gyroscopic drift\n",
        "  [Del_x,Del_y,Del_z]: accelerometer bias\n",
        "  [L,Lamda,h]: latitude, longitude, height'''\n",
        "\n",
        "  w_ie_matrix=np.transpose([0,w_ie*math.cos(L),w_ie*math.sin(L)])\n",
        "  w_en=np.dot(1/R_e,np.transpose([-1*V_n,V_e,V_e*math.tan(L)]))\n",
        "  V_ins=np.transpose([V_e,V_n,V_u])\n",
        "  r_ins=np.transpose([L,Lambda,h])\n",
        "\n",
        "\n",
        "  w_in=np.add(w_ie_matrix,w_en)\n",
        "  w_ib=np.dot(1/T,np.transpose([Phi_e,Phi_n,Phi_u]))\n",
        "  w_nb=np.subtract(w_ib,np.matmul(navig_frame(L,Lambda),np.add(w_en,w_ie_matrix)))\n",
        "  W_nb=np.array(skew_symm(w_nb))\n",
        "\n",
        "\n",
        "  R_dot_nb=np.matmul(-W_nb,np.transpose(rover_body_frame(Phi_e,Phi_n,Phi_u)))\n",
        "  v_dot_ins=np.add(np.subtract(rover_body_frame(Phi_e,Phi_n,Phi_u),np.matmul(skew_symm(np.add(np.dot(2,w_ie_matrix),w_en)),V_ins)),g_n)\n",
        "  C=np.array([[0,1/R_e,0],[1/(R_e*math.cos(L)),0,0],[0,0,0]])\n",
        "  r_dot_ins=np.matmul(C,V_ins)\n",
        "  r_ins_k=np.dot(R_e,np.matmul(navig_frame(L,Lambda),np.transpose([0,0,1]))) # r_ins(k)\n",
        "\n",
        "\n",
        "  def INS_state_model(f_n):\n",
        "    delta_r=np.transpose([deltaL,deltaLambda,deltaH])\n",
        "    delta_v=np.transpose([deltaV_e,deltaV_n,deltaV_u])\n",
        "    delta_w_ie=np.transpose([0,-w_ie*math.sin(L)*deltaL,w_ie*math.cos(L)*deltaL])\n",
        "    del_w_en=np.transpose([-deltaV_n/R_e,deltaV_e/R_e,deltaV_e/R_e*math.tan(L)+deltaV_e/R_e/(math.cos(L))**2*deltaL])\n",
        "    delta_w_in=np.add(delta_w_ie,del_w_en)\n",
        "\n",
        "    Phi_dot=np.add(np.matmul(skew_symm(np.transpose([Phi_e,Phi_n,Phi_u])),delta_w_in),np.subtract(delta_w_in,np.transpose([Epsilon_x,Epsilon_y,Epsilon_z])))\n",
        "    delta_v_dot=np.add(np.dot(-1,np.add(np.add(np.matmul(skew_symm(np.transpose([Phi_e,Phi_n,Phi_u])),f_n),np.matmul(skew_symm(np.add(np.transpose(np.dot(2,delta_w_ie)),del_w_en)),V_ins)),np.matmul(skew_symm(np.add(np.transpose(np.dot(2,delta_w_ie)),del_w_en)),delta_v))),[Del_x,Del_y,Del_z])\n",
        "    D=np.array([[V_e/R_e/math.cos(L)*math.tan(L),0,0],[0,0,0],[0,0,0]])\n",
        "    delta_r_dot=np.add(np.matmul(C,delta_v),np.matmul(D,delta_r))\n",
        "    return Phi_dot,delta_v_dot,delta_r_dot\n",
        "  f_n=f1_n(w_ie_matrix,w_en,V_e,V_n,V_u,g_n)\n",
        "  Phi_dot,delta_v_dot,delta_r_dot=INS_state_model(f_n)\n",
        "  Phi_new=np.add(np.transpose([Phi_e,Phi_n,Phi_u]),np.multiply(np.transpose([delta_Phi_e,delta_Phi_n,delta_Phi_u]),Phi_dot))\n",
        "\n",
        "  def INS_meas_model(r_curr,R_bn_ins_k,R_dot_nb):\n",
        "    # Measurement model\n",
        "    R_prev=rover_body_frame(Phi_e,Phi_n,Phi_u)\n",
        "    R_curr=np.add(R_prev,np.dot(epsilon,np.transpose(R_dot_nb)))\n",
        "    R_err=np.matmul(np.transpose(R_bn_ins_k),np.matmul(rover_body_frame(Phi_e,Phi_n,Phi_u),r_curr))\n",
        "    delta_r_curr=np.dot(delta_t,delta_r_dot)\n",
        "    r_prev=np.subtract(r_curr,delta_r_curr)\n",
        "\n",
        "    R_ins,T_ins=rel_motion_err(R_err,R_curr,R_prev,r_curr,r_prev,delta_r_curr)\n",
        "\n",
        "    return R_ins,T_ins,R_err\n",
        "  R_ins_prev=navig_frame(L,Lambda)\n",
        "  R_ins,T_ins,R_err=INS_meas_model(r_ins_k,R_ins_prev,R_dot_nb)\n",
        "  R_ins_prev=R_ins\n",
        "  return r_ins_k,Phi_new,R_ins,T_ins,R_err\n",
        "\n",
        "\n",
        "\n"
      ],
      "metadata": {
        "id": "p0wQpsksqd7B"
      },
      "execution_count": 355,
      "outputs": []
    },
    {
      "cell_type": "markdown",
      "source": [
        "## **State Parameters**"
      ],
      "metadata": {
        "id": "nsYuZcqkV4Mw"
      }
    },
    {
      "cell_type": "code",
      "source": [
        "def state_transition_matrix(Phi_e,Phi_n,Phi_u,L,Lambda,h,V_e,V_n,V_u,w_ie,R_m=R_e,R_n=R_e):\n",
        "  M_aa=np.array([[0,w_ie*math.sin(L)+V_e*math.tan(L)/(R_n+h),-(w_ie*math.cos(L)+V_e/(R_n+h))],\n",
        "                 [-(w_ie*math.sin(L)+V_e*math.tan(L)/(R_n+h)),0,-V_n/(R_m+h)],\n",
        "                 [w_ie*math.cos(L)+V_e/(R_n+h),V_n/(R_m+h),0]])\n",
        "  M_av=np.array([[0,1/(R_m+h),0],\n",
        "                 [1/(R_n+h),0,-V_n/(R_m+h)],\n",
        "                 [math.tan(L)/(R_n+h),0,0]])\n",
        "  M_ap=np.array([[0,0,0],\n",
        "                 [-w_ie*math.sin(L),0,0],\n",
        "                 [w_ie*math.cos(L)+V_e/(math.cos(L))**2/(R_n+h),0,0]])\n",
        "  M_va=np.array([[0,-f_u,f_n],\n",
        "                 [f_u,0,f_e],\n",
        "                 [-f_n,f_e,0]])\n",
        "  M_vv=np.array([[V_n*math.tan(L)/(R_n+h)-V_u/(R_n+h),2*w_ie*math.sin(L)+V_e*math.tan(L)/(R_n+h),2*w_ie*math.cos(L)+V_e/(R_n+h)],\n",
        "                 [-2*w_ie*math.sin(L)+V_e*math.tan(L)/(R_n+h),-V_u/(R_m+h),-V_n/(R_m+h)],\n",
        "                 [2*(w_ie*math.cos(L)+V_e/(R_n+h)),2*V_n/(R_m+h),0]])\n",
        "  M_vp=np.array([[2*w_ie*math.cos(L)*V_n+V_n*V_e/math.pow(math.cos(L),2)/(R_n+h),2*w_ie*math.sin(L)+V_e*math.tan(L)/(R_n+h),2*w_ie*math.cos(L)+V_e/(R_n+h)],\n",
        "                 [-(2*w_ie*math.cos(L)*V_e+V_e*V_e/math.pow(math.cos(L),2)/(R_n+h)),0,0],\n",
        "                 [-2*w_ie*math.sin(L)*V_e,0,0]])\n",
        "  M_pv=np.array([[0,-1/(R_m+h),0],\n",
        "                 [1/(R_n+h)/math.cos(L),0,0],\n",
        "                 [0,0,1]])\n",
        "  M_pp=np.array([[0,0,0],\n",
        "                 [V_e*math.tan(L)/math.cos(L)/(R_n+h),0,0],\n",
        "                 [0,0,1]])\n",
        "  C_bn=rover_body_frame(Phi_e,Phi_n,Phi_u)\n",
        "  F_t=np.array([[M_aa[0,0],M_aa[0,1],M_aa[0,2],M_av[0,0],M_av[0,1],M_av[0,2],M_ap[0,0],M_ap[0,1],M_ap[0,2],C_bn[0,0],C_bn[0,1],C_bn[0,2],0,0,0],\n",
        "                [M_aa[1,0],M_aa[1,1],M_aa[1,2],M_av[1,0],M_av[1,1],M_av[1,2],M_ap[1,0],M_ap[1,1],M_ap[1,2],C_bn[1,0],C_bn[1,1],C_bn[1,2],0,0,0],\n",
        "                [M_aa[2,0],M_aa[2,1],M_aa[2,2],M_av[2,0],M_av[2,1],M_av[2,2],M_ap[2,0],M_ap[2,1],M_ap[2,2],C_bn[2,0],C_bn[2,1],C_bn[2,2],0,0,0],\n",
        "                [M_va[0,0],M_va[0,1],M_va[0,2],M_vv[0,0],M_vv[0,1],M_vv[0,2],M_vp[0,0],M_vp[0,1],M_vp[0,2],0,0,0,C_bn[0,0],C_bn[0,1],C_bn[0,2]],\n",
        "                [M_va[1,0],M_va[1,1],M_va[1,2],M_vv[1,0],M_vv[1,1],M_vv[1,2],M_vp[1,0],M_vp[1,1],M_vp[1,2],0,0,0,C_bn[1,0],C_bn[1,1],C_bn[1,2]],\n",
        "                [M_va[2,0],M_va[2,1],M_va[2,2],M_vv[2,0],M_vv[2,1],M_vv[2,2],M_vp[2,0],M_vp[2,1],M_vp[2,2],0,0,0,C_bn[2,0],C_bn[2,1],C_bn[2,2]],\n",
        "                [0,0,0,M_pv[0,0],M_pv[0,1],M_pv[0,2],M_pp[0,0],M_pp[0,1],M_pp[0,2],0,0,0,0,0,0,],\n",
        "                [0,0,0,M_pv[1,0],M_pv[1,1],M_pv[1,2],M_pp[1,0],M_pp[1,1],M_pp[1,2],0,0,0,0,0,0,],\n",
        "                [0,0,0,M_pv[2,0],M_pv[2,1],M_pv[2,2],M_pp[2,0],M_pp[2,1],M_pp[2,2],0,0,0,0,0,0,],\n",
        "                [0,0,0,0,0,0,0,0,0,0,0,0,0,0,0],\n",
        "                [0,0,0,0,0,0,0,0,0,0,0,0,0,0,0],\n",
        "                [0,0,0,0,0,0,0,0,0,0,0,0,0,0,0],\n",
        "                [0,0,0,0,0,0,0,0,0,0,0,0,0,0,0],\n",
        "                [0,0,0,0,0,0,0,0,0,0,0,0,0,0,0],\n",
        "                [0,0,0,0,0,0,0,0,0,0,0,0,0,0,0]])\n",
        "  return F_t"
      ],
      "metadata": {
        "id": "gKZ6cjmK84we"
      },
      "execution_count": 356,
      "outputs": []
    },
    {
      "cell_type": "code",
      "source": [
        "def noise_navig_coord_sys(Epsilon_x,Epsilon_y,Epsilon_z,Del_x,Del_y,Del_z):\n",
        "  w_gx=chi(Epsilon_x)\n",
        "  w_gy=chi(Epsilon_y)\n",
        "  w_gz=chi(Epsilon_z)\n",
        "  w_ax=chi(Del_x)\n",
        "  w_ay=chi(Del_y)\n",
        "  w_az=chi(Del_z)\n",
        "  return np.transpose(np.array([w_gx,w_gy,w_gz,w_ax,w_ay,w_az]))"
      ],
      "metadata": {
        "id": "M1fmGcdY84s_"
      },
      "execution_count": 357,
      "outputs": []
    },
    {
      "cell_type": "code",
      "source": [
        "def noise_driving(Phi_e,Phi_n,Phi_u):\n",
        "  C_bn=rover_body_frame(Phi_e,Phi_n,Phi_u)\n",
        "  G_t=np.array([[C_bn[0,0],C_bn[0,1],C_bn[0,2],0,0,0],\n",
        "                [C_bn[1,0],C_bn[1,1],C_bn[1,2],0,0,0],\n",
        "                [C_bn[2,0],C_bn[2,1],C_bn[2,2],0,0,0],\n",
        "                [0,0,0,C_bn[0,0],C_bn[0,1],C_bn[0,2]],\n",
        "                [0,0,0,C_bn[1,0],C_bn[1,1],C_bn[1,2]],\n",
        "                [0,0,0,C_bn[2,0],C_bn[2,1],C_bn[2,2]],\n",
        "                [0,0,0,0,0,0],\n",
        "                [0,0,0,0,0,0],\n",
        "                [0,0,0,0,0,0],\n",
        "                [0,0,0,0,0,0],\n",
        "                [0,0,0,0,0,0],\n",
        "                [0,0,0,0,0,0],\n",
        "                [0,0,0,0,0,0],\n",
        "                [0,0,0,0,0,0],\n",
        "                [0,0,0,0,0,0]])\n",
        "  return G_t"
      ],
      "metadata": {
        "id": "G0QEnD_f84q3"
      },
      "execution_count": 358,
      "outputs": []
    },
    {
      "cell_type": "markdown",
      "source": [
        "##**Riccati inequality**"
      ],
      "metadata": {
        "id": "QRdRwvGqPhlY"
      }
    },
    {
      "cell_type": "code",
      "source": [
        "def gamma(x_curr,H_curr,L_curr=np.identity(15)):\n",
        "  P_curr=covariance(x_curr,x_curr)\n",
        "  gamma=np.sqrt(np.matmul(np.add(np.linalg.inv(P_curr),np.matmul(np.transpose(H_curr),H_curr)),np.linalg.inv(np.matmul(np.transpose(L_curr),L_curr))))-epsilon\n",
        "  return gamma"
      ],
      "metadata": {
        "id": "8OpSZzTdT_j7"
      },
      "execution_count": 359,
      "outputs": []
    },
    {
      "cell_type": "markdown",
      "source": [
        "## **H infinity filter**"
      ],
      "metadata": {
        "id": "lmr4O01hPnHf"
      }
    },
    {
      "cell_type": "code",
      "source": [
        "def Rinv_ek(P_currOld,H_curr,L_curr,gamma):\n",
        "  return np.add([[np.identity(15),0],[0,np.dot(-gamma**2,np.identity(15))]],sqmat([H_curr,L_curr],P_currOld))"
      ],
      "metadata": {
        "id": "ubvKi9eVQQ8t"
      },
      "execution_count": 360,
      "outputs": []
    },
    {
      "cell_type": "code",
      "source": [
        "def H_inf_filter(Phi,P_currOld,H_curr,L_curr):\n",
        "  Rinv_=Rinv_ek(P_currOld,H_curr,L_curr,gamma)\n",
        "  P_currCurr=np.subtract(P_currOld,sqmat(Phi,np.matmul(P_currOld,np.matmul(P_currOld,np.matmul([np.transpose(H_curr),np.transpose(L_curr)],np.matmul(Rinv_,np.matmul(np.transpose([H_curr,L_curr]),P_currOld)))))))\n",
        "  return P_currCurr"
      ],
      "metadata": {
        "id": "zifLtWq35bKu"
      },
      "execution_count": 361,
      "outputs": []
    },
    {
      "cell_type": "code",
      "source": [
        "def fading_filter(Phi,gamma,x_prev,w_curr,H_curr,v_curr,P_prev,n=15):\n",
        "  L_curr=np.identity(n)\n",
        "  R_curr=covariance(v_curr,v_curr)\n",
        "  Q_curr=covariance(w_curr,w_curr)\n",
        "  M_curr=sqmat(H_curr,sqmat(Phi,P_prev))\n",
        "  P_Vk=expected_val(np.matmul(v_curr,np.transpose(v_curr)),'gaussian')\n",
        "  N_curr=np.subtract(P_Vk,np.add(sqmat(H_curr,Q_curr),R_curr))\n",
        "  S_curr1=max(1,1/n*np.trace(np.matmul(N_curr,np.linalg.inv(M_curr))))\n",
        "  S_curr2=max(1,np.trace(N_curr)/np.trace(M_curr))\n",
        "  S_curr=0.5*(S_curr1+S_curr2)\n",
        "  assert S_curr>=1,print('Fading factor must be more than 1')\n",
        "\n",
        "  x_curr,z_curr=kf(Phi,x_prev,gamma,w_curr,H_curr,v_curr)\n",
        "  x_currOld=np.matmul(Phi,x_prev)\n",
        "  P_currOld=np.add(np.matmul(S_curr,sqmat(Phi,P_prev)),Q_curr)\n",
        "  K_curr=kf_gain(P_currOld,H_curr,R_curr)\n",
        "  x_currCurr=np.add(x_currOld,np.matmul(K_curr,np.subtract(z_curr,np.matmul(H_curr,x_currOld))))\n",
        "  P_currCurr=H_inf_filter(Phi,P_currOld,H_curr,L_curr)\n",
        "  return np.subtract(P_currCurr,P_currOld)"
      ],
      "metadata": {
        "id": "WqPF7bKo84o5"
      },
      "execution_count": 362,
      "outputs": []
    },
    {
      "cell_type": "markdown",
      "source": [
        "# **Training**"
      ],
      "metadata": {
        "id": "npv4n4x4P0Fq"
      }
    },
    {
      "cell_type": "code",
      "source": [
        "H_t=np.array([[0,0,0,0,0,0,1,0,0,0,0,0,0,0,0],\n",
        "     [0,0,0,0,0,0,0,1,0,0,0,0,0,0,0],\n",
        "     [0,0,0,0,0,0,0,0,1,0,0,0,0,0,0]])\n",
        "def model(phi_e,phi_n,phi_u,delta_Phi_e,delta_Phi_n,delta_Phi_u,V_e,V_n,V_u,deltaV_e,deltaV_n,deltaV_u,deltaL,deltaLambda,deltaH,Epsilon_x,Epsilon_y,Epsilon_z,Del_x,Del_y,Del_z,L,Lambda,h,total_epochs):\n",
        "  for k in range(0,total_epochs):\n",
        "    r_ins,phi_new,R_ins,T_ins,R_err=INS_model(delta_Phi_e,delta_Phi_n,delta_Phi_u,phi_e,phi_n,phi_u,V_e,V_n,V_u,L,Lambda,h,deltaL,deltaLambda,deltaH,Epsilon_x,Epsilon_y,Epsilon_z,Del_x,Del_y,Del_z,g_n)\n",
        "    P_t=np.random.randn(15,15)\n",
        "    X_t=np.transpose([phi_e,phi_n,phi_u,deltaV_e,deltaV_n,deltaV_u,deltaL,deltaLambda,deltaH,Epsilon_x,Epsilon_y,Epsilon_z,Del_x,Del_y,Del_z])\n",
        "    F_t=state_transition_matrix(phi_e,phi_n,phi_u,L,Lambda,h,V_e,V_n,V_u,w_ie)\n",
        "    G_t=noise_driving(phi_e,phi_n,phi_u)\n",
        "    W_t=noise_navig_coord_sys(Epsilon_x,Epsilon_y,Epsilon_z,Del_x,Del_y,Del_z)\n",
        "    X_pred_t=np.add(np.matmul(F_t,X_t),np.matmul(G_t,W_t))\n",
        "    V_t=np.transpose([eta_L,eta_Lambda,eta_h])\n",
        "    Z_t=np.transpose(np.add(np.matmul(H_t,X_t),V_t))\n",
        "    Q_t=covariance(np.transpose(np.array([W_t])),np.transpose(np.array([W_t])))\n",
        "    R_t=covariance(np.transpose(V_t),np.transpose(V_t))\n",
        "    K_t,X_pred_t,P_t=kf_update(F_t,np.random.randn(15,6),X_t,X_pred_t,P_t,Q_t,R_t,H_t,Z_t)\n",
        "    phi_e=phi_new[0]\n",
        "    phi_n=phi_new[1]\n",
        "    phi_u=phi_new[2]\n",
        "    delta_r_gnss=np.random.normal(size=(3,))\n",
        "    Z_t=np.subtract(T_ins,delta_r_gnss)\n",
        "    Z_t.reshape((3,1))\n",
        "    V_t=np.subtract(Z_t,np.matmul(H_t,X_t))\n",
        "    X_t=X_pred_t\n",
        "  return K_t,Z_t,X_t"
      ],
      "metadata": {
        "id": "Vzo5z_7zjOeU"
      },
      "execution_count": 363,
      "outputs": []
    },
    {
      "cell_type": "markdown",
      "source": [
        "# **Sanity check**"
      ],
      "metadata": {
        "id": "up7hKT8XgMpl"
      }
    },
    {
      "cell_type": "code",
      "source": [
        "X_train=pd.read_csv('/content/sample_data/california_housing_train.csv')\n",
        "L_list=X_train[['longitude']]\n",
        "Lambda_list=X_train[['latitude']]\n",
        "g_n=-9.81\n",
        "#print(L_list.shape)\n",
        "#print(Lambda_list.shape)\n",
        "INS_out_freq=100\n",
        "T=1/INS_out_freq\n",
        "L_list=np.array(L_list)\n",
        "Lambda_list=np.array(Lambda_list)\n",
        "K=[]\n",
        "Z=[]\n",
        "X=[]\n",
        "idx=np.random.randint(10,90)\n",
        "for i in range(idx,idx+100):\n",
        "  eta_L=np.random.randn()\n",
        "  eta_Lambda=np.random.randn()\n",
        "  eta_h=np.random.randn()\n",
        "  L=L_list[i]\n",
        "  Lambda=Lambda_list[i]\n",
        "  h=eta_h\n",
        "  f_u=400e-6*g_n*np.random.randn()\n",
        "  f_n=np.random.randn()\n",
        "  f_e=np.random.randn()\n",
        "  #gyro bias\n",
        "  Epsilon_x=5/3600*T*np.random.randn()\n",
        "  Epsilon_y=5/3600*T*np.random.randn()\n",
        "  Epsilon_z=5/3600*T*np.random.randn()\n",
        "  #position wrt earth\n",
        "  phi_e=5/3600\n",
        "  phi_n=5/3600\n",
        "  phi_u=5/3600\n",
        "  #gyro angle random walk\n",
        "  delta_Phi_e=0.5/60*T\n",
        "  delta_Phi_n=0.5/60*T\n",
        "  delta_Phi_u=0.5/60*T\n",
        "  #accelerometer bias\n",
        "  Del_x=400*0.01*np.random.randn()\n",
        "  Del_y=400*0.01*np.random.randn()\n",
        "  Del_z=400*0.01*np.random.randn()\n",
        "  #velocity\n",
        "  V_e=np.random.randn()\n",
        "  V_n=np.random.randn()\n",
        "  V_u=np.random.randn()\n",
        "  #vel error\n",
        "  deltaV_e=0.1*np.random.randn()\n",
        "  deltaV_n=0.1*np.random.randn()\n",
        "  deltaV_u=0.1*np.random.randn()\n",
        "  #gps error\n",
        "  deltaL=np.random.randn()\n",
        "  deltaLambda=np.random.randn()\n",
        "  deltaH=np.random.randn()\n",
        "\n",
        "  X_t=np.transpose([phi_e,phi_n,phi_u,deltaV_e,deltaV_n,deltaV_u,deltaL,deltaLambda,deltaH,Epsilon_x,Epsilon_y,Epsilon_z,Del_x,Del_y,Del_z])\n",
        "  K_t,Z_t,X_t = model(phi_e,phi_n,phi_u,delta_Phi_e,delta_Phi_n,delta_Phi_u,V_e,V_n,V_u,deltaV_e,deltaV_n,deltaV_u,deltaL,deltaLambda,deltaH,Epsilon_x,Epsilon_y,Epsilon_z,Del_x,Del_y,Del_z,L,Lambda,h,total_epochs)\n",
        "  K.append(np.linalg.norm(K_t))\n",
        "  Z.append(Z_t)\n",
        "  X.append(X_t)\n",
        "K_=np.array(K)\n",
        "Z_=np.array(Z)\n",
        "X_=np.array(X)\n",
        "print(X_.shape)\n",
        "plt.figure(1)\n",
        "plt.plot(range(100),K_)\n",
        "plt.title('Kalman gain')\n",
        "plt.figure(2)\n",
        "plt.subplot(311)\n",
        "plt.plot(range(100),Z_[:,0])\n",
        "plt.legend(['L'])\n",
        "plt.title('Error')\n",
        "plt.subplot(312)\n",
        "plt.plot(range(100),Z_[:,1])\n",
        "plt.legend(['Lambda'])\n",
        "plt.title('Error')\n",
        "plt.subplot(313)\n",
        "plt.plot(range(100),Z_[:,2])\n",
        "plt.legend(['h'])\n",
        "plt.title('Error')\n",
        "plt.figure(3)\n",
        "plt.subplot(211)\n",
        "plt.plot(L_list[idx:idx+10],Lambda_list[idx:idx+10])\n",
        "plt.xlabel('Latitude')\n",
        "plt.ylabel('Longitude')\n",
        "plt.legend(['Actual'])\n",
        "plt.subplot(212)\n",
        "plt.plot(L_list[idx:idx+10]+Z_[idx:idx+10,0],Lambda_list[idx:idx+10]+Z_[idx:idx+10,1])\n",
        "plt.xlabel('Latitude')\n",
        "plt.ylabel('Longitude')\n",
        "plt.legend(['Predicted'])"
      ],
      "metadata": {
        "id": "ztCtZaGjwDQv",
        "colab": {
          "base_uri": "https://localhost:8080/",
          "height": 1000
        },
        "outputId": "8a1a2a7d-f3ae-4898-8f1d-9d25c258dd82"
      },
      "execution_count": 370,
      "outputs": [
        {
          "output_type": "stream",
          "name": "stderr",
          "text": [
            "/usr/local/lib/python3.10/dist-packages/numpy/core/fromnumeric.py:43: VisibleDeprecationWarning: Creating an ndarray from ragged nested sequences (which is a list-or-tuple of lists-or-tuples-or ndarrays with different lengths or shapes) is deprecated. If you meant to do this, you must specify 'dtype=object' when creating the ndarray.\n",
            "  result = getattr(asarray(obj), method)(*args, **kwds)\n"
          ]
        },
        {
          "output_type": "stream",
          "name": "stdout",
          "text": [
            "(100, 15, 3)\n"
          ]
        },
        {
          "output_type": "execute_result",
          "data": {
            "text/plain": [
              "<matplotlib.legend.Legend at 0x78da8f58d030>"
            ]
          },
          "metadata": {},
          "execution_count": 370
        },
        {
          "output_type": "display_data",
          "data": {
            "text/plain": [
              "<Figure size 640x480 with 1 Axes>"
            ],
            "image/png": "[encoded data removed]"
          },
          "metadata": {}
        },
        {
          "output_type": "display_data",
          "data": {
            "text/plain": [
              "<Figure size 640x480 with 3 Axes>"
            ],
            "image/png": "[encoded data removed]"
          },
          "metadata": {}
        },
        {
          "output_type": "display_data",
          "data": {
            "text/plain": [
              "<Figure size 640x480 with 2 Axes>"
            ],
            "image/png": "[encoded data removed]"
          },
          "metadata": {}
        }
      ]
    },
    {
      "cell_type": "code",
      "source": [
        "print(np.max(np.abs(K_)))\n",
        "print(np.max(np.abs(Z_)))"
      ],
      "metadata": {
        "id": "k4Jrf0kcx9wR",
        "colab": {
          "base_uri": "https://localhost:8080/"
        },
        "outputId": "bb8b35fa-4d56-4ac7-c16b-caa1c60db809"
      },
      "execution_count": 372,
      "outputs": [
        {
          "output_type": "stream",
          "name": "stdout",
          "text": [
            "221.55550907055934\n",
            "3.7822925671112215\n"
          ]
        }
      ]
    },
    {
      "cell_type": "code",
      "source": [],
      "metadata": {
        "id": "TMv4xqcqU2d5"
      },
      "execution_count": 365,
      "outputs": []
    },
    {
      "cell_type": "markdown",
      "source": [
        "# **Adaptive Kalman filter proposed in the paper**"
      ],
      "metadata": {
        "id": "pNIocXg3mt2I"
      }
    },
    {
      "cell_type": "code",
      "source": [
        "def prop_update(Phi,Gamma_prev,P_prev,X_prev,X_pred_prev,Q_curr,R_curr,V_curr,H,H_curr,Z_curr,W_prev,k,N=100):\n",
        "  delta_x=T*epsilon #small interval\n",
        "  Q_prev=covariance(np.transpose(np.array([W_prev])),np.transpose(np.array([W_prev])))\n",
        "\n",
        "  R_pred1=[] # dummy var\n",
        "  R_pred2=[] # dummy var\n",
        "  X_pred_newOld=np.transpose([np.matmul(Phi,X_pred_prev)])\n",
        "  P_currOld=error_var(Phi,P_prev,Gamma_prev,Q_prev)\n",
        "\n",
        "  #constructing chi squared test using innovation series\n",
        "  r_curr=np.subtract(Z_curr,np.matmul(H_curr,X_pred_newOld))\n",
        "  T_curr=np.matmul(np.transpose(r_curr),np.matmul(sqmat(H,P_currOld),r_curr))\n",
        "  C_curr=np.add(sqmat(H_curr,P_currOld),R_curr)\n",
        "\n",
        "  # traditional adaptive filter\n",
        "  sum=np.zeros(shape=np.shape(np.matmul(r_curr,np.transpose(r_curr))))\n",
        "  for i in enumerate(range(0,k)):\n",
        "    if k!=1:\n",
        "      sum=np.dot(1/(k-1),np.add(sum,np.matmul(r_curr,np.transpose(r_curr))))\n",
        "  C_pred_curr=sum\n",
        "  R_pred_trad=np.subtract(C_pred_curr,np.matmul(H,np.matmul(P_currOld,np.transpose(H))))\n",
        "  sum=np.zeros(shape=np.shape(delta_x))\n",
        "  K_curr=np.matmul(P_currOld,np.matmul(np.transpose(H_curr),np.linalg.inv(np.add(sqmat(H_curr,P_currOld),R_curr))))\n",
        "  P_curr=np.matmul(np.subtract(1,np.matmul(K_curr,H_curr)),P_currOld)\n",
        "  for i in enumerate(range(0,k)):\n",
        "    Q_pred_curr=np.add(np.dot(1/N,np.add(sum,np.transpose(delta_x))),np.add(P_curr,sqmat(Phi,P_prev)))\n",
        "\n",
        "  sum=np.zeros(shape=r_curr.shape)\n",
        "  for i in enumerate(range(0,k)):\n",
        "    sum=np.add(r_curr,sum)\n",
        "  r_pred_curr=np.dot(1/(k+1),sum)\n",
        "  R_pred_curr=np.subtract(C_pred_curr,sqmat(H,P_currOld))\n",
        "\n",
        "\n",
        "  R_pred_curr_innov=innovation_covariance(r_curr,r_pred_curr,R_curr,k)\n",
        "\n",
        "\n",
        "  #propsed update sol for adaptive kalman filter\n",
        "  K_prop,X_pred_new,P_prop=kf_update(Phi,Gamma_prev,X_prev,X_pred_prev,P_prev,Q_prev,np.subtract(R_pred_curr_innov,R_pred_curr),H_curr,Z_curr)\n",
        "\n",
        "\n",
        "  return K_prop,X_pred_new,P_prop\n",
        "\n"
      ],
      "metadata": {
        "id": "ry63V9Ie5bMx"
      },
      "execution_count": 366,
      "outputs": []
    },
    {
      "cell_type": "code",
      "source": [
        "H_t=np.array([[0,0,0,0,0,0,1,0,0,0,0,0,0,0,0],\n",
        "     [0,0,0,0,0,0,0,1,0,0,0,0,0,0,0],\n",
        "     [0,0,0,0,0,0,0,0,1,0,0,0,0,0,0]])\n",
        "def model1(phi_e,phi_n,phi_u,delta_Phi_e,delta_Phi_n,delta_Phi_u,V_e,V_n,V_u,deltaV_e,deltaV_n,deltaV_u,deltaL,deltaLambda,deltaH,Epsilon_x,Epsilon_y,Epsilon_z,Del_x,Del_y,Del_z,L,Lambda,h,total_epochs):\n",
        "  for k in range(0,total_epochs):\n",
        "    r_ins,phi_new,R_ins,T_ins,R_err=INS_model(delta_Phi_e,delta_Phi_n,delta_Phi_u,phi_e,phi_n,phi_u,V_e,V_n,V_u,L,Lambda,h,deltaL,deltaLambda,deltaH,Epsilon_x,Epsilon_y,Epsilon_z,Del_x,Del_y,Del_z,g_n)\n",
        "    P_t=np.random.randn(15,15)\n",
        "    X_t=np.transpose([phi_e,phi_n,phi_u,deltaV_e,deltaV_n,deltaV_u,deltaL,deltaLambda,deltaH,Epsilon_x,Epsilon_y,Epsilon_z,Del_x,Del_y,Del_z])\n",
        "    F_t=state_transition_matrix(phi_e,phi_n,phi_u,L,Lambda,h,V_e,V_n,V_u,w_ie)\n",
        "    G_t=noise_driving(phi_e,phi_n,phi_u)\n",
        "    W_t=noise_navig_coord_sys(Epsilon_x,Epsilon_y,Epsilon_z,Del_x,Del_y,Del_z)\n",
        "    X_pred_t=np.add(np.matmul(F_t,X_t),np.matmul(G_t,W_t))\n",
        "    V_t=np.transpose([eta_L,eta_Lambda,eta_h])\n",
        "    Z_t=np.transpose(np.add(np.matmul(H_t,X_t),V_t))\n",
        "    Q_t=covariance(np.transpose(np.array([W_t])),np.transpose(np.array([W_t])))\n",
        "    R_t=covariance(np.transpose(V_t),np.transpose(V_t))\n",
        "    K_t,X_pred_t,P_t=prop_update(F_t,np.random.randn(15,6),X_t,X_pred_t,P_t,Q_t,R_t,H_t,Z_t)\n",
        "    phi_e=phi_new[0]\n",
        "    phi_n=phi_new[1]\n",
        "    phi_u=phi_new[2]\n",
        "    delta_r_gnss=np.random.normal(size=(3,))\n",
        "    Z_t=np.subtract(T_ins,delta_r_gnss)\n",
        "    Z_t.reshape((3,1))\n",
        "    V_t=np.subtract(Z_t,np.matmul(H_t,X_t))\n",
        "  return K_t,Z_t"
      ],
      "metadata": {
        "id": "ybvq7WczyjnX"
      },
      "execution_count": 367,
      "outputs": []
    },
    {
      "cell_type": "code",
      "source": [
        "for i in range(100):\n",
        "  eta_L=np.random.randn()\n",
        "  eta_Lambda=np.random.randn()\n",
        "  eta_h=np.random.randn()\n",
        "  L=L_list[i]\n",
        "  Lambda=Lambda_list[i]\n",
        "  h=eta_h\n",
        "  f_u=400e-6*g_n*np.random.randn()\n",
        "  f_n=0\n",
        "  f_e=0\n",
        "  #gyro bias\n",
        "  Epsilon_x=5/3600*T*np.random.randn()\n",
        "  Epsilon_y=5/3600*T*np.random.randn()\n",
        "  Epsilon_z=5/3600*T*np.random.randn()\n",
        "  #position wrt earth\n",
        "  phi_e=5/3600\n",
        "  phi_n=5/3600\n",
        "  phi_u=5/3600\n",
        "  #gyro angle random walk\n",
        "  delta_Phi_e=0.5/60*T\n",
        "  delta_Phi_n=0.5/60*T\n",
        "  delta_Phi_u=0.5/60*T\n",
        "  #accelerometer bias\n",
        "  Del_x=400*0.01*np.random.randn()\n",
        "  Del_y=400*0.01*np.random.randn()\n",
        "  Del_z=400*0.01*np.random.randn()\n",
        "  #velocity\n",
        "  V_e=np.random.randn()\n",
        "  V_n=np.random.randn()\n",
        "  V_u=np.random.randn()\n",
        "  #vel error\n",
        "  deltaV_e=0.1*np.random.randn()\n",
        "  deltaV_n=0.1*np.random.randn()\n",
        "  deltaV_u=0.1*np.random.randn()\n",
        "  #gps error\n",
        "  deltaL=np.random.randn()\n",
        "  deltaLambda=np.random.randn()\n",
        "  deltaH=np.random.randn()\n",
        "\n",
        "  K_t,Z_t=model(phi_e,phi_n,phi_u,delta_Phi_e,delta_Phi_n,delta_Phi_u,V_e,V_n,V_u,deltaV_e,deltaV_n,deltaV_u,deltaL,deltaLambda,deltaH,Epsilon_x,Epsilon_y,Epsilon_z,Del_x,Del_y,Del_z,L,Lambda,h,total_epochs)\n",
        "  K.append(np.linalg.norm(K_t))\n",
        "  Z.append(Z_t)\n",
        "  K_=np.array(K)\n",
        "  Z_=np.array(Z)\n",
        "  plt.figure(1)\n",
        "  plt.plot(range(100),K_)\n",
        "  plt.title('Kalman gain')\n",
        "  plt.figure(2)\n",
        "  plt.subplot(311)\n",
        "  plt.plot(range(100),Z_[:,0])\n",
        "  plt.legend(['L'])\n",
        "  plt.title('Error')\n",
        "  plt.subplot(312)\n",
        "  plt.plot(range(100),Z_[:,1])\n",
        "  plt.legend(['Lambda'])\n",
        "  plt.title('Error')\n",
        "  plt.subplot(313)\n",
        "  plt.plot(range(100),Z_[:,2])\n",
        "  plt.legend(['h'])\n",
        "  plt.title('Error')"
      ],
      "metadata": {
        "colab": {
          "base_uri": "https://localhost:8080/",
          "height": 283
        },
        "id": "wEv7vStHR7zz",
        "outputId": "284d860f-af2a-4c3b-8315-22709182ab5f"
      },
      "execution_count": 368,
      "outputs": [
        {
          "output_type": "error",
          "ename": "ValueError",
          "evalue": "ignored",
          "traceback": [
            "\u001b[0;31m---------------------------------------------------------------------------\u001b[0m",
            "\u001b[0;31mValueError\u001b[0m                                Traceback (most recent call last)",
            "\u001b[0;32m<ipython-input-368-91c080790f29>\u001b[0m in \u001b[0;36m<cell line: 1>\u001b[0;34m()\u001b[0m\n\u001b[1;32m     38\u001b[0m   \u001b[0mdeltaH\u001b[0m\u001b[0;34m=\u001b[0m\u001b[0mnp\u001b[0m\u001b[0;34m.\u001b[0m\u001b[0mrandom\u001b[0m\u001b[0;34m.\u001b[0m\u001b[0mrandn\u001b[0m\u001b[0;34m(\u001b[0m\u001b[0;34m)\u001b[0m\u001b[0;34m\u001b[0m\u001b[0;34m\u001b[0m\u001b[0m\n\u001b[1;32m     39\u001b[0m \u001b[0;34m\u001b[0m\u001b[0m\n\u001b[0;32m---> 40\u001b[0;31m   \u001b[0mK_t\u001b[0m\u001b[0;34m,\u001b[0m\u001b[0mZ_t\u001b[0m\u001b[0;34m=\u001b[0m\u001b[0mmodel\u001b[0m\u001b[0;34m(\u001b[0m\u001b[0mphi_e\u001b[0m\u001b[0;34m,\u001b[0m\u001b[0mphi_n\u001b[0m\u001b[0;34m,\u001b[0m\u001b[0mphi_u\u001b[0m\u001b[0;34m,\u001b[0m\u001b[0mdelta_Phi_e\u001b[0m\u001b[0;34m,\u001b[0m\u001b[0mdelta_Phi_n\u001b[0m\u001b[0;34m,\u001b[0m\u001b[0mdelta_Phi_u\u001b[0m\u001b[0;34m,\u001b[0m\u001b[0mV_e\u001b[0m\u001b[0;34m,\u001b[0m\u001b[0mV_n\u001b[0m\u001b[0;34m,\u001b[0m\u001b[0mV_u\u001b[0m\u001b[0;34m,\u001b[0m\u001b[0mdeltaV_e\u001b[0m\u001b[0;34m,\u001b[0m\u001b[0mdeltaV_n\u001b[0m\u001b[0;34m,\u001b[0m\u001b[0mdeltaV_u\u001b[0m\u001b[0;34m,\u001b[0m\u001b[0mdeltaL\u001b[0m\u001b[0;34m,\u001b[0m\u001b[0mdeltaLambda\u001b[0m\u001b[0;34m,\u001b[0m\u001b[0mdeltaH\u001b[0m\u001b[0;34m,\u001b[0m\u001b[0mEpsilon_x\u001b[0m\u001b[0;34m,\u001b[0m\u001b[0mEpsilon_y\u001b[0m\u001b[0;34m,\u001b[0m\u001b[0mEpsilon_z\u001b[0m\u001b[0;34m,\u001b[0m\u001b[0mDel_x\u001b[0m\u001b[0;34m,\u001b[0m\u001b[0mDel_y\u001b[0m\u001b[0;34m,\u001b[0m\u001b[0mDel_z\u001b[0m\u001b[0;34m,\u001b[0m\u001b[0mL\u001b[0m\u001b[0;34m,\u001b[0m\u001b[0mLambda\u001b[0m\u001b[0;34m,\u001b[0m\u001b[0mh\u001b[0m\u001b[0;34m,\u001b[0m\u001b[0mtotal_epochs\u001b[0m\u001b[0;34m)\u001b[0m\u001b[0;34m\u001b[0m\u001b[0;34m\u001b[0m\u001b[0m\n\u001b[0m\u001b[1;32m     41\u001b[0m   \u001b[0mK\u001b[0m\u001b[0;34m.\u001b[0m\u001b[0mappend\u001b[0m\u001b[0;34m(\u001b[0m\u001b[0mnp\u001b[0m\u001b[0;34m.\u001b[0m\u001b[0mlinalg\u001b[0m\u001b[0;34m.\u001b[0m\u001b[0mnorm\u001b[0m\u001b[0;34m(\u001b[0m\u001b[0mK_t\u001b[0m\u001b[0;34m)\u001b[0m\u001b[0;34m)\u001b[0m\u001b[0;34m\u001b[0m\u001b[0;34m\u001b[0m\u001b[0m\n\u001b[1;32m     42\u001b[0m   \u001b[0mZ\u001b[0m\u001b[0;34m.\u001b[0m\u001b[0mappend\u001b[0m\u001b[0;34m(\u001b[0m\u001b[0mZ_t\u001b[0m\u001b[0;34m)\u001b[0m\u001b[0;34m\u001b[0m\u001b[0;34m\u001b[0m\u001b[0m\n",
            "\u001b[0;31mValueError\u001b[0m: too many values to unpack (expected 2)"
          ]
        }
      ]
    }
  ]
}